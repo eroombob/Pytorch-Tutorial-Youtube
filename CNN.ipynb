{
  "nbformat": 4,
  "nbformat_minor": 0,
  "metadata": {
    "colab": {
      "provenance": [],
      "authorship_tag": "ABX9TyO6ArF57XgkbTGjG2XeoKSB",
      "include_colab_link": true
    },
    "kernelspec": {
      "name": "python3",
      "display_name": "Python 3"
    },
    "language_info": {
      "name": "python"
    }
  },
  "cells": [
    {
      "cell_type": "markdown",
      "metadata": {
        "id": "view-in-github",
        "colab_type": "text"
      },
      "source": [
        "<a href=\"https://colab.research.google.com/github/eroombob/Pytorch-Tutorial-Youtube/blob/main/CNN.ipynb\" target=\"_parent\"><img src=\"https://colab.research.google.com/assets/colab-badge.svg\" alt=\"Open In Colab\"/></a>"
      ]
    },
    {
      "cell_type": "code",
      "execution_count": 36,
      "metadata": {
        "id": "E67EQt6eGFo-"
      },
      "outputs": [],
      "source": [
        "import torch\n",
        "import torch.nn as nn\n",
        "import torch.nn.functional as F\n",
        "from torch.utils.data import DataLoader\n",
        "from torchvision import datasets, transforms\n",
        "from torchvision.utils import make_grid\n",
        "\n",
        "import numpy as np\n",
        "import pandas as pd\n",
        "from sklearn.metrics import confusion_matrix\n",
        "import matplotlib.pyplot as plt\n",
        "%matplotlib inline"
      ]
    },
    {
      "cell_type": "code",
      "source": [
        "# Convert MNIST image files to a Tensor of 4 dimensions (num images, height, width, Color channels)\n",
        "transform = transforms.ToTensor()"
      ],
      "metadata": {
        "id": "ymoYyBVAJhi6"
      },
      "execution_count": 37,
      "outputs": []
    },
    {
      "cell_type": "code",
      "source": [
        "# MNIST is in TorchVision\n",
        "# Train Data\n",
        "train_data = datasets.MNIST(root='/cnn_data', train=True, download=True, transform=transform)"
      ],
      "metadata": {
        "id": "HJO2OShRNe6E"
      },
      "execution_count": 38,
      "outputs": []
    },
    {
      "cell_type": "code",
      "source": [
        "# Test Data\n",
        "test_data = datasets.MNIST(root='/cnn_data', train=False, download=True, transform=transform)"
      ],
      "metadata": {
        "id": "L17oJ_Q4Ouvn"
      },
      "execution_count": 39,
      "outputs": []
    },
    {
      "cell_type": "code",
      "source": [
        "train_data"
      ],
      "metadata": {
        "colab": {
          "base_uri": "https://localhost:8080/"
        },
        "id": "yFjpXgmsPTo-",
        "outputId": "d0cef35c-371d-48e9-a147-a31bcc78b9f5"
      },
      "execution_count": 40,
      "outputs": [
        {
          "output_type": "execute_result",
          "data": {
            "text/plain": [
              "Dataset MNIST\n",
              "    Number of datapoints: 60000\n",
              "    Root location: /cnn_data\n",
              "    Split: Train\n",
              "    StandardTransform\n",
              "Transform: ToTensor()"
            ]
          },
          "metadata": {},
          "execution_count": 40
        }
      ]
    },
    {
      "cell_type": "code",
      "source": [
        "test_data"
      ],
      "metadata": {
        "colab": {
          "base_uri": "https://localhost:8080/"
        },
        "id": "wqkVj-uJPZaq",
        "outputId": "31299609-c01c-4586-c578-f9dae42dba26"
      },
      "execution_count": 41,
      "outputs": [
        {
          "output_type": "execute_result",
          "data": {
            "text/plain": [
              "Dataset MNIST\n",
              "    Number of datapoints: 10000\n",
              "    Root location: /cnn_data\n",
              "    Split: Test\n",
              "    StandardTransform\n",
              "Transform: ToTensor()"
            ]
          },
          "metadata": {},
          "execution_count": 41
        }
      ]
    },
    {
      "cell_type": "code",
      "source": [
        "# Create a small batch size for images, 10\n",
        "train_loader = DataLoader(train_data, batch_size=10, shuffle=True)\n",
        "test_loader = DataLoader(test_data, batch_size=10, shuffle=False)"
      ],
      "metadata": {
        "id": "JhxMBHO4P3pq"
      },
      "execution_count": 42,
      "outputs": []
    },
    {
      "cell_type": "code",
      "source": [
        "# Define our CNN model\n",
        "# Describe convolutional layers (2) and what it's doing\n",
        "# This is just an example, not our model\n",
        "# Input, output, kernal size, stride or step length\n",
        "# 6 output from layer 1 become the inputs for layer 2\n",
        "conv1 = nn.Conv2d(1, 6, 3, 1)\n",
        "conv2 = nn.Conv2d(6, 16, 3, 1)"
      ],
      "metadata": {
        "id": "5vhjic9_2dAL"
      },
      "execution_count": 43,
      "outputs": []
    },
    {
      "cell_type": "code",
      "source": [
        "# Grab 1 MNIST image\n",
        "for i, (X_train, y_train) in enumerate(train_data):\n",
        "    break"
      ],
      "metadata": {
        "id": "KtFDkrDU7NFR"
      },
      "execution_count": 44,
      "outputs": []
    },
    {
      "cell_type": "code",
      "source": [
        "X_train"
      ],
      "metadata": {
        "colab": {
          "base_uri": "https://localhost:8080/"
        },
        "id": "X7cRRXnx87To",
        "outputId": "706ac642-c0f8-47d8-ed27-d4efee645db7"
      },
      "execution_count": 45,
      "outputs": [
        {
          "output_type": "execute_result",
          "data": {
            "text/plain": [
              "tensor([[[0.0000, 0.0000, 0.0000, 0.0000, 0.0000, 0.0000, 0.0000, 0.0000,\n",
              "          0.0000, 0.0000, 0.0000, 0.0000, 0.0000, 0.0000, 0.0000, 0.0000,\n",
              "          0.0000, 0.0000, 0.0000, 0.0000, 0.0000, 0.0000, 0.0000, 0.0000,\n",
              "          0.0000, 0.0000, 0.0000, 0.0000],\n",
              "         [0.0000, 0.0000, 0.0000, 0.0000, 0.0000, 0.0000, 0.0000, 0.0000,\n",
              "          0.0000, 0.0000, 0.0000, 0.0000, 0.0000, 0.0000, 0.0000, 0.0000,\n",
              "          0.0000, 0.0000, 0.0000, 0.0000, 0.0000, 0.0000, 0.0000, 0.0000,\n",
              "          0.0000, 0.0000, 0.0000, 0.0000],\n",
              "         [0.0000, 0.0000, 0.0000, 0.0000, 0.0000, 0.0000, 0.0000, 0.0000,\n",
              "          0.0000, 0.0000, 0.0000, 0.0000, 0.0000, 0.0000, 0.0000, 0.0000,\n",
              "          0.0000, 0.0000, 0.0000, 0.0000, 0.0000, 0.0000, 0.0000, 0.0000,\n",
              "          0.0000, 0.0000, 0.0000, 0.0000],\n",
              "         [0.0000, 0.0000, 0.0000, 0.0000, 0.0000, 0.0000, 0.0000, 0.0000,\n",
              "          0.0000, 0.0000, 0.0000, 0.0000, 0.0000, 0.0000, 0.0000, 0.0000,\n",
              "          0.0000, 0.0000, 0.0000, 0.0000, 0.0000, 0.0000, 0.0000, 0.0000,\n",
              "          0.0000, 0.0000, 0.0000, 0.0000],\n",
              "         [0.0000, 0.0000, 0.0000, 0.0000, 0.0000, 0.0000, 0.0000, 0.0000,\n",
              "          0.0000, 0.0000, 0.0000, 0.0000, 0.0000, 0.0000, 0.0000, 0.0000,\n",
              "          0.0000, 0.0000, 0.0000, 0.0000, 0.0000, 0.0000, 0.0000, 0.0000,\n",
              "          0.0000, 0.0000, 0.0000, 0.0000],\n",
              "         [0.0000, 0.0000, 0.0000, 0.0000, 0.0000, 0.0000, 0.0000, 0.0000,\n",
              "          0.0000, 0.0000, 0.0000, 0.0000, 0.0118, 0.0706, 0.0706, 0.0706,\n",
              "          0.4941, 0.5333, 0.6863, 0.1020, 0.6510, 1.0000, 0.9686, 0.4980,\n",
              "          0.0000, 0.0000, 0.0000, 0.0000],\n",
              "         [0.0000, 0.0000, 0.0000, 0.0000, 0.0000, 0.0000, 0.0000, 0.0000,\n",
              "          0.1176, 0.1412, 0.3686, 0.6039, 0.6667, 0.9922, 0.9922, 0.9922,\n",
              "          0.9922, 0.9922, 0.8824, 0.6745, 0.9922, 0.9490, 0.7647, 0.2510,\n",
              "          0.0000, 0.0000, 0.0000, 0.0000],\n",
              "         [0.0000, 0.0000, 0.0000, 0.0000, 0.0000, 0.0000, 0.0000, 0.1922,\n",
              "          0.9333, 0.9922, 0.9922, 0.9922, 0.9922, 0.9922, 0.9922, 0.9922,\n",
              "          0.9922, 0.9843, 0.3647, 0.3216, 0.3216, 0.2196, 0.1529, 0.0000,\n",
              "          0.0000, 0.0000, 0.0000, 0.0000],\n",
              "         [0.0000, 0.0000, 0.0000, 0.0000, 0.0000, 0.0000, 0.0000, 0.0706,\n",
              "          0.8588, 0.9922, 0.9922, 0.9922, 0.9922, 0.9922, 0.7765, 0.7137,\n",
              "          0.9686, 0.9451, 0.0000, 0.0000, 0.0000, 0.0000, 0.0000, 0.0000,\n",
              "          0.0000, 0.0000, 0.0000, 0.0000],\n",
              "         [0.0000, 0.0000, 0.0000, 0.0000, 0.0000, 0.0000, 0.0000, 0.0000,\n",
              "          0.3137, 0.6118, 0.4196, 0.9922, 0.9922, 0.8039, 0.0431, 0.0000,\n",
              "          0.1686, 0.6039, 0.0000, 0.0000, 0.0000, 0.0000, 0.0000, 0.0000,\n",
              "          0.0000, 0.0000, 0.0000, 0.0000],\n",
              "         [0.0000, 0.0000, 0.0000, 0.0000, 0.0000, 0.0000, 0.0000, 0.0000,\n",
              "          0.0000, 0.0549, 0.0039, 0.6039, 0.9922, 0.3529, 0.0000, 0.0000,\n",
              "          0.0000, 0.0000, 0.0000, 0.0000, 0.0000, 0.0000, 0.0000, 0.0000,\n",
              "          0.0000, 0.0000, 0.0000, 0.0000],\n",
              "         [0.0000, 0.0000, 0.0000, 0.0000, 0.0000, 0.0000, 0.0000, 0.0000,\n",
              "          0.0000, 0.0000, 0.0000, 0.5451, 0.9922, 0.7451, 0.0078, 0.0000,\n",
              "          0.0000, 0.0000, 0.0000, 0.0000, 0.0000, 0.0000, 0.0000, 0.0000,\n",
              "          0.0000, 0.0000, 0.0000, 0.0000],\n",
              "         [0.0000, 0.0000, 0.0000, 0.0000, 0.0000, 0.0000, 0.0000, 0.0000,\n",
              "          0.0000, 0.0000, 0.0000, 0.0431, 0.7451, 0.9922, 0.2745, 0.0000,\n",
              "          0.0000, 0.0000, 0.0000, 0.0000, 0.0000, 0.0000, 0.0000, 0.0000,\n",
              "          0.0000, 0.0000, 0.0000, 0.0000],\n",
              "         [0.0000, 0.0000, 0.0000, 0.0000, 0.0000, 0.0000, 0.0000, 0.0000,\n",
              "          0.0000, 0.0000, 0.0000, 0.0000, 0.1373, 0.9451, 0.8824, 0.6275,\n",
              "          0.4235, 0.0039, 0.0000, 0.0000, 0.0000, 0.0000, 0.0000, 0.0000,\n",
              "          0.0000, 0.0000, 0.0000, 0.0000],\n",
              "         [0.0000, 0.0000, 0.0000, 0.0000, 0.0000, 0.0000, 0.0000, 0.0000,\n",
              "          0.0000, 0.0000, 0.0000, 0.0000, 0.0000, 0.3176, 0.9412, 0.9922,\n",
              "          0.9922, 0.4667, 0.0980, 0.0000, 0.0000, 0.0000, 0.0000, 0.0000,\n",
              "          0.0000, 0.0000, 0.0000, 0.0000],\n",
              "         [0.0000, 0.0000, 0.0000, 0.0000, 0.0000, 0.0000, 0.0000, 0.0000,\n",
              "          0.0000, 0.0000, 0.0000, 0.0000, 0.0000, 0.0000, 0.1765, 0.7294,\n",
              "          0.9922, 0.9922, 0.5882, 0.1059, 0.0000, 0.0000, 0.0000, 0.0000,\n",
              "          0.0000, 0.0000, 0.0000, 0.0000],\n",
              "         [0.0000, 0.0000, 0.0000, 0.0000, 0.0000, 0.0000, 0.0000, 0.0000,\n",
              "          0.0000, 0.0000, 0.0000, 0.0000, 0.0000, 0.0000, 0.0000, 0.0627,\n",
              "          0.3647, 0.9882, 0.9922, 0.7333, 0.0000, 0.0000, 0.0000, 0.0000,\n",
              "          0.0000, 0.0000, 0.0000, 0.0000],\n",
              "         [0.0000, 0.0000, 0.0000, 0.0000, 0.0000, 0.0000, 0.0000, 0.0000,\n",
              "          0.0000, 0.0000, 0.0000, 0.0000, 0.0000, 0.0000, 0.0000, 0.0000,\n",
              "          0.0000, 0.9765, 0.9922, 0.9765, 0.2510, 0.0000, 0.0000, 0.0000,\n",
              "          0.0000, 0.0000, 0.0000, 0.0000],\n",
              "         [0.0000, 0.0000, 0.0000, 0.0000, 0.0000, 0.0000, 0.0000, 0.0000,\n",
              "          0.0000, 0.0000, 0.0000, 0.0000, 0.0000, 0.0000, 0.1804, 0.5098,\n",
              "          0.7176, 0.9922, 0.9922, 0.8118, 0.0078, 0.0000, 0.0000, 0.0000,\n",
              "          0.0000, 0.0000, 0.0000, 0.0000],\n",
              "         [0.0000, 0.0000, 0.0000, 0.0000, 0.0000, 0.0000, 0.0000, 0.0000,\n",
              "          0.0000, 0.0000, 0.0000, 0.0000, 0.1529, 0.5804, 0.8980, 0.9922,\n",
              "          0.9922, 0.9922, 0.9804, 0.7137, 0.0000, 0.0000, 0.0000, 0.0000,\n",
              "          0.0000, 0.0000, 0.0000, 0.0000],\n",
              "         [0.0000, 0.0000, 0.0000, 0.0000, 0.0000, 0.0000, 0.0000, 0.0000,\n",
              "          0.0000, 0.0000, 0.0941, 0.4471, 0.8667, 0.9922, 0.9922, 0.9922,\n",
              "          0.9922, 0.7882, 0.3059, 0.0000, 0.0000, 0.0000, 0.0000, 0.0000,\n",
              "          0.0000, 0.0000, 0.0000, 0.0000],\n",
              "         [0.0000, 0.0000, 0.0000, 0.0000, 0.0000, 0.0000, 0.0000, 0.0000,\n",
              "          0.0902, 0.2588, 0.8353, 0.9922, 0.9922, 0.9922, 0.9922, 0.7765,\n",
              "          0.3176, 0.0078, 0.0000, 0.0000, 0.0000, 0.0000, 0.0000, 0.0000,\n",
              "          0.0000, 0.0000, 0.0000, 0.0000],\n",
              "         [0.0000, 0.0000, 0.0000, 0.0000, 0.0000, 0.0000, 0.0706, 0.6706,\n",
              "          0.8588, 0.9922, 0.9922, 0.9922, 0.9922, 0.7647, 0.3137, 0.0353,\n",
              "          0.0000, 0.0000, 0.0000, 0.0000, 0.0000, 0.0000, 0.0000, 0.0000,\n",
              "          0.0000, 0.0000, 0.0000, 0.0000],\n",
              "         [0.0000, 0.0000, 0.0000, 0.0000, 0.2157, 0.6745, 0.8863, 0.9922,\n",
              "          0.9922, 0.9922, 0.9922, 0.9569, 0.5216, 0.0431, 0.0000, 0.0000,\n",
              "          0.0000, 0.0000, 0.0000, 0.0000, 0.0000, 0.0000, 0.0000, 0.0000,\n",
              "          0.0000, 0.0000, 0.0000, 0.0000],\n",
              "         [0.0000, 0.0000, 0.0000, 0.0000, 0.5333, 0.9922, 0.9922, 0.9922,\n",
              "          0.8314, 0.5294, 0.5176, 0.0627, 0.0000, 0.0000, 0.0000, 0.0000,\n",
              "          0.0000, 0.0000, 0.0000, 0.0000, 0.0000, 0.0000, 0.0000, 0.0000,\n",
              "          0.0000, 0.0000, 0.0000, 0.0000],\n",
              "         [0.0000, 0.0000, 0.0000, 0.0000, 0.0000, 0.0000, 0.0000, 0.0000,\n",
              "          0.0000, 0.0000, 0.0000, 0.0000, 0.0000, 0.0000, 0.0000, 0.0000,\n",
              "          0.0000, 0.0000, 0.0000, 0.0000, 0.0000, 0.0000, 0.0000, 0.0000,\n",
              "          0.0000, 0.0000, 0.0000, 0.0000],\n",
              "         [0.0000, 0.0000, 0.0000, 0.0000, 0.0000, 0.0000, 0.0000, 0.0000,\n",
              "          0.0000, 0.0000, 0.0000, 0.0000, 0.0000, 0.0000, 0.0000, 0.0000,\n",
              "          0.0000, 0.0000, 0.0000, 0.0000, 0.0000, 0.0000, 0.0000, 0.0000,\n",
              "          0.0000, 0.0000, 0.0000, 0.0000],\n",
              "         [0.0000, 0.0000, 0.0000, 0.0000, 0.0000, 0.0000, 0.0000, 0.0000,\n",
              "          0.0000, 0.0000, 0.0000, 0.0000, 0.0000, 0.0000, 0.0000, 0.0000,\n",
              "          0.0000, 0.0000, 0.0000, 0.0000, 0.0000, 0.0000, 0.0000, 0.0000,\n",
              "          0.0000, 0.0000, 0.0000, 0.0000]]])"
            ]
          },
          "metadata": {},
          "execution_count": 45
        }
      ]
    },
    {
      "cell_type": "code",
      "source": [
        "X_train.shape"
      ],
      "metadata": {
        "colab": {
          "base_uri": "https://localhost:8080/"
        },
        "id": "1WaQAlhP9BIw",
        "outputId": "0550bcad-537c-4b84-c72f-e862ea56970c"
      },
      "execution_count": 46,
      "outputs": [
        {
          "output_type": "execute_result",
          "data": {
            "text/plain": [
              "torch.Size([1, 28, 28])"
            ]
          },
          "metadata": {},
          "execution_count": 46
        }
      ]
    },
    {
      "cell_type": "code",
      "source": [
        "x = X_train.view(1,1,28,28)"
      ],
      "metadata": {
        "id": "FbabUcu69XTL"
      },
      "execution_count": 47,
      "outputs": []
    },
    {
      "cell_type": "code",
      "source": [
        "# Perform our first convolution\n",
        "# Rectified Linear Unit for activation function\n",
        "x = F.relu(conv1(x))"
      ],
      "metadata": {
        "id": "GDHvNyjK-1b1"
      },
      "execution_count": 48,
      "outputs": []
    },
    {
      "cell_type": "code",
      "source": [
        "x"
      ],
      "metadata": {
        "colab": {
          "base_uri": "https://localhost:8080/"
        },
        "id": "_stcD6zL_1Sn",
        "outputId": "96ba2087-fd9e-46e2-d69d-562ac4d0fb2e"
      },
      "execution_count": 49,
      "outputs": [
        {
          "output_type": "execute_result",
          "data": {
            "text/plain": [
              "tensor([[[[0.2143, 0.2143, 0.2143,  ..., 0.2143, 0.2143, 0.2143],\n",
              "          [0.2143, 0.2143, 0.2143,  ..., 0.2143, 0.2143, 0.2143],\n",
              "          [0.2143, 0.2143, 0.2143,  ..., 0.2143, 0.2143, 0.2143],\n",
              "          ...,\n",
              "          [0.2143, 0.2143, 0.0330,  ..., 0.2143, 0.2143, 0.2143],\n",
              "          [0.2143, 0.2143, 0.1570,  ..., 0.2143, 0.2143, 0.2143],\n",
              "          [0.2143, 0.2143, 0.2143,  ..., 0.2143, 0.2143, 0.2143]],\n",
              "\n",
              "         [[0.0000, 0.0000, 0.0000,  ..., 0.0000, 0.0000, 0.0000],\n",
              "          [0.0000, 0.0000, 0.0000,  ..., 0.0000, 0.0000, 0.0000],\n",
              "          [0.0000, 0.0000, 0.0000,  ..., 0.0000, 0.0000, 0.0000],\n",
              "          ...,\n",
              "          [0.0000, 0.0000, 0.1952,  ..., 0.0000, 0.0000, 0.0000],\n",
              "          [0.0000, 0.0000, 0.1694,  ..., 0.0000, 0.0000, 0.0000],\n",
              "          [0.0000, 0.0000, 0.0000,  ..., 0.0000, 0.0000, 0.0000]],\n",
              "\n",
              "         [[0.2049, 0.2049, 0.2049,  ..., 0.2049, 0.2049, 0.2049],\n",
              "          [0.2049, 0.2049, 0.2049,  ..., 0.2049, 0.2049, 0.2049],\n",
              "          [0.2049, 0.2049, 0.2049,  ..., 0.2049, 0.2049, 0.2049],\n",
              "          ...,\n",
              "          [0.2049, 0.2049, 0.3013,  ..., 0.2049, 0.2049, 0.2049],\n",
              "          [0.2049, 0.2049, 0.2504,  ..., 0.2049, 0.2049, 0.2049],\n",
              "          [0.2049, 0.2049, 0.2049,  ..., 0.2049, 0.2049, 0.2049]],\n",
              "\n",
              "         [[0.0000, 0.0000, 0.0000,  ..., 0.0000, 0.0000, 0.0000],\n",
              "          [0.0000, 0.0000, 0.0000,  ..., 0.0000, 0.0000, 0.0000],\n",
              "          [0.0000, 0.0000, 0.0000,  ..., 0.0000, 0.0000, 0.0000],\n",
              "          ...,\n",
              "          [0.0000, 0.0000, 0.0000,  ..., 0.0000, 0.0000, 0.0000],\n",
              "          [0.0000, 0.0000, 0.0000,  ..., 0.0000, 0.0000, 0.0000],\n",
              "          [0.0000, 0.0000, 0.0000,  ..., 0.0000, 0.0000, 0.0000]],\n",
              "\n",
              "         [[0.1027, 0.1027, 0.1027,  ..., 0.1027, 0.1027, 0.1027],\n",
              "          [0.1027, 0.1027, 0.1027,  ..., 0.1027, 0.1027, 0.1027],\n",
              "          [0.1027, 0.1027, 0.1027,  ..., 0.1027, 0.1027, 0.1027],\n",
              "          ...,\n",
              "          [0.1027, 0.1027, 0.1624,  ..., 0.1027, 0.1027, 0.1027],\n",
              "          [0.1027, 0.1027, 0.1782,  ..., 0.1027, 0.1027, 0.1027],\n",
              "          [0.1027, 0.1027, 0.1027,  ..., 0.1027, 0.1027, 0.1027]],\n",
              "\n",
              "         [[0.0000, 0.0000, 0.0000,  ..., 0.0000, 0.0000, 0.0000],\n",
              "          [0.0000, 0.0000, 0.0000,  ..., 0.0000, 0.0000, 0.0000],\n",
              "          [0.0000, 0.0000, 0.0000,  ..., 0.0000, 0.0000, 0.0000],\n",
              "          ...,\n",
              "          [0.0000, 0.0000, 0.0000,  ..., 0.0000, 0.0000, 0.0000],\n",
              "          [0.0000, 0.0000, 0.0000,  ..., 0.0000, 0.0000, 0.0000],\n",
              "          [0.0000, 0.0000, 0.0000,  ..., 0.0000, 0.0000, 0.0000]]]],\n",
              "       grad_fn=<ReluBackward0>)"
            ]
          },
          "metadata": {},
          "execution_count": 49
        }
      ]
    },
    {
      "cell_type": "code",
      "source": [
        "x.shape"
      ],
      "metadata": {
        "colab": {
          "base_uri": "https://localhost:8080/"
        },
        "id": "PHMQ383T_3qH",
        "outputId": "99662306-64da-4d64-daa8-f31f4daf6357"
      },
      "execution_count": 50,
      "outputs": [
        {
          "output_type": "execute_result",
          "data": {
            "text/plain": [
              "torch.Size([1, 6, 26, 26])"
            ]
          },
          "metadata": {},
          "execution_count": 50
        }
      ]
    },
    {
      "cell_type": "code",
      "source": [
        "# Pass thru the pooling layer, reduce data, take max values\n",
        "# kernal of 2, stride 2\n",
        "x = F.max_pool2d(x,2,2)"
      ],
      "metadata": {
        "id": "iGqdOjDjAA2H"
      },
      "execution_count": 51,
      "outputs": []
    },
    {
      "cell_type": "code",
      "source": [
        "x.shape"
      ],
      "metadata": {
        "colab": {
          "base_uri": "https://localhost:8080/"
        },
        "id": "ws3dqncOFm8R",
        "outputId": "c9b1c381-1f33-4f77-cc9b-66d53a6736b7"
      },
      "execution_count": 52,
      "outputs": [
        {
          "output_type": "execute_result",
          "data": {
            "text/plain": [
              "torch.Size([1, 6, 13, 13])"
            ]
          },
          "metadata": {},
          "execution_count": 52
        }
      ]
    },
    {
      "cell_type": "code",
      "source": [
        "# Do 2nd convolusional layer\n",
        "x = F.relu(conv2(x))"
      ],
      "metadata": {
        "id": "6vW_mphGF8Xc"
      },
      "execution_count": 53,
      "outputs": []
    },
    {
      "cell_type": "code",
      "source": [
        "x.shape"
      ],
      "metadata": {
        "colab": {
          "base_uri": "https://localhost:8080/"
        },
        "id": "JfPS5SDVImu3",
        "outputId": "f63c34d5-1ee8-4cc9-b2ca-f5004f53a8c9"
      },
      "execution_count": 54,
      "outputs": [
        {
          "output_type": "execute_result",
          "data": {
            "text/plain": [
              "torch.Size([1, 16, 11, 11])"
            ]
          },
          "metadata": {},
          "execution_count": 54
        }
      ]
    },
    {
      "cell_type": "code",
      "source": [
        "# 2nd pooling layer\n",
        "x = F.max_pool2d(x,2,2)"
      ],
      "metadata": {
        "id": "TFtdOm1qIwNW"
      },
      "execution_count": 55,
      "outputs": []
    },
    {
      "cell_type": "code",
      "source": [
        "x.shape"
      ],
      "metadata": {
        "colab": {
          "base_uri": "https://localhost:8080/"
        },
        "id": "KhOMSF6kJyas",
        "outputId": "18895b4c-efff-43f4-f308-2b9169a392c0"
      },
      "execution_count": 56,
      "outputs": [
        {
          "output_type": "execute_result",
          "data": {
            "text/plain": [
              "torch.Size([1, 16, 5, 5])"
            ]
          },
          "metadata": {},
          "execution_count": 56
        }
      ]
    },
    {
      "cell_type": "code",
      "source": [
        "# Model Class\n",
        "class ConvolutionalNetwork(nn.Module):\n",
        "    def __init__(self):\n",
        "        super().__init__()\n",
        "        self.conv1 = nn.Conv2d(1,6,3,1)\n",
        "        self.conv2 = nn.Conv2d(6,16,3,1)\n",
        "        # Fully connected layers\n",
        "        self.fc1 = nn.Linear(5*5*16, 120)\n",
        "        self.fc2 = nn.Linear(120, 84)\n",
        "        self.fc3 = nn.Linear(84, 10)\n",
        "\n",
        "    # Forward function\n",
        "    def forward(self, X):\n",
        "        X = F.relu(self.conv1(X))\n",
        "        X = F.max_pool2d(X,2,2) # 2x2 kernal, stride 2\n",
        "        # Second pass\n",
        "        X = F.relu(self.conv2(X))\n",
        "        X = F.max_pool2d(X,2,2)\n",
        "\n",
        "        # Re-View to flatten data\n",
        "        X = X.view(-1, 16*5*5) # -1 so we can vary batch size\n",
        "\n",
        "        # Fully connected layers\n",
        "        X = F.relu(self.fc1(X))\n",
        "        X = F.relu(self.fc2(X))\n",
        "        X = self.fc3(X)\n",
        "        return F.log_softmax(X, dim=1)"
      ],
      "metadata": {
        "id": "b-8lBVkDKcf4"
      },
      "execution_count": 57,
      "outputs": []
    },
    {
      "cell_type": "code",
      "source": [
        "# Create an instance of our model\n",
        "torch.manual_seed(41)\n",
        "model = ConvolutionalNetwork()\n",
        "model"
      ],
      "metadata": {
        "colab": {
          "base_uri": "https://localhost:8080/"
        },
        "id": "30NOUiUMPmF4",
        "outputId": "08b0c7e1-ddc2-44f2-e276-5d250748bc2c"
      },
      "execution_count": 58,
      "outputs": [
        {
          "output_type": "execute_result",
          "data": {
            "text/plain": [
              "ConvolutionalNetwork(\n",
              "  (conv1): Conv2d(1, 6, kernel_size=(3, 3), stride=(1, 1))\n",
              "  (conv2): Conv2d(6, 16, kernel_size=(3, 3), stride=(1, 1))\n",
              "  (fc1): Linear(in_features=400, out_features=120, bias=True)\n",
              "  (fc2): Linear(in_features=120, out_features=84, bias=True)\n",
              "  (fc3): Linear(in_features=84, out_features=10, bias=True)\n",
              ")"
            ]
          },
          "metadata": {},
          "execution_count": 58
        }
      ]
    },
    {
      "cell_type": "code",
      "source": [
        "# Loss function optimizer\n",
        "criterion = nn.CrossEntropyLoss()\n",
        "optimizer = torch.optim.Adam(model.parameters(), lr=0.001) # smaller learning rate, longer learning time"
      ],
      "metadata": {
        "id": "gkK9oXVsP_68"
      },
      "execution_count": 62,
      "outputs": []
    },
    {
      "cell_type": "code",
      "source": [
        "# Keep track of time to train\n",
        "import time\n",
        "start_time = time.time()"
      ],
      "metadata": {
        "id": "14hOA1pZRZ1S"
      },
      "execution_count": 60,
      "outputs": []
    },
    {
      "cell_type": "code",
      "source": [
        "# Keep track of time to train\n",
        "import time\n",
        "start_time = time.time()\n",
        "\n",
        "# Create Variables to track things\n",
        "epochs = 5\n",
        "train_losses = []\n",
        "test_losses = []\n",
        "train_correct = []\n",
        "test_correct = []\n",
        "\n",
        "# For loops of Epochs\n",
        "for i in range(epochs):\n",
        "    trn_corr = 0\n",
        "    tst_corr = 0\n",
        "\n",
        "    # Train\n",
        "    for b,(X_train, y_train) in enumerate(train_loader):\n",
        "        b+=1 # start our batches at 1\n",
        "        y_pred = model(X_train) # get predicted values, not flattened\n",
        "        loss = criterion(y_pred, y_train) # how off are we? Compare predictions to ground truth in Y_train\n",
        "\n",
        "        predicted = torch.max(y_pred.data, 1)[1] # Total correct predictions, indexed off first point\n",
        "        batch_corr = (predicted == y_train).sum() # How many correct from batch\n",
        "        trn_corr += batch_corr # keep track as we train\n",
        "\n",
        "        # Update parameters\n",
        "        optimizer.zero_grad()\n",
        "        loss.backward()\n",
        "        optimizer.step()\n",
        "\n",
        "        # Print results\n",
        "        if b%600 == 0: # batch modulus equals zero\n",
        "            print(f'Epoch: {i} Batch: {b} Loss: {loss.item()}')\n",
        "\n",
        "    train_losses.append(loss)\n",
        "    train_correct.append(trn_corr)\n",
        "\n",
        "    # Test\n",
        "    with torch.no_grad(): # No gradient so we don't updates weights and biases with Test\n",
        "        for b,(X_test, y_test) in enumerate(test_loader):\n",
        "            y_val = model(X_test)\n",
        "            predicted = torch.max(y_val.data, 1)[1] # Adding up correct predictions\n",
        "            tst_corr += (predicted == y_test).sum() # T=1 F=0\n",
        "\n",
        "    loss = criterion(y_val, y_test)\n",
        "    test_losses.append(loss)\n",
        "    test_correct.append(tst_corr)\n",
        "\n",
        "current_time = time.time()\n",
        "total = current_time - start_time\n",
        "print(f'Training took: {total/60} minutes!')"
      ],
      "metadata": {
        "colab": {
          "base_uri": "https://localhost:8080/"
        },
        "id": "FwvANCm3iY-y",
        "outputId": "de83cac2-6d3b-4a5b-e343-0b2613150681"
      },
      "execution_count": 64,
      "outputs": [
        {
          "output_type": "stream",
          "name": "stdout",
          "text": [
            "Epoch: 0 Batch: 600 Loss: 0.1623610556125641\n",
            "Epoch: 0 Batch: 1200 Loss: 0.1502392590045929\n",
            "Epoch: 0 Batch: 1800 Loss: 0.4744560718536377\n",
            "Epoch: 0 Batch: 2400 Loss: 0.14238706231117249\n",
            "Epoch: 0 Batch: 3000 Loss: 0.007758188061416149\n",
            "Epoch: 0 Batch: 3600 Loss: 0.3836284875869751\n",
            "Epoch: 0 Batch: 4200 Loss: 0.0038223876617848873\n",
            "Epoch: 0 Batch: 4800 Loss: 0.0021286322735249996\n",
            "Epoch: 0 Batch: 5400 Loss: 0.0569545142352581\n",
            "Epoch: 0 Batch: 6000 Loss: 0.00038789428072050214\n",
            "Epoch: 1 Batch: 600 Loss: 0.005851339548826218\n",
            "Epoch: 1 Batch: 1200 Loss: 0.3855525553226471\n",
            "Epoch: 1 Batch: 1800 Loss: 0.004819948226213455\n",
            "Epoch: 1 Batch: 2400 Loss: 0.003216963727027178\n",
            "Epoch: 1 Batch: 3000 Loss: 0.0332382395863533\n",
            "Epoch: 1 Batch: 3600 Loss: 0.5372857451438904\n",
            "Epoch: 1 Batch: 4200 Loss: 0.04561494290828705\n",
            "Epoch: 1 Batch: 4800 Loss: 0.0007510822033509612\n",
            "Epoch: 1 Batch: 5400 Loss: 0.0001173773780465126\n",
            "Epoch: 1 Batch: 6000 Loss: 0.14201366901397705\n",
            "Epoch: 2 Batch: 600 Loss: 0.023733172565698624\n",
            "Epoch: 2 Batch: 1200 Loss: 0.003455493599176407\n",
            "Epoch: 2 Batch: 1800 Loss: 0.0008372392621822655\n",
            "Epoch: 2 Batch: 2400 Loss: 0.010705141350626945\n",
            "Epoch: 2 Batch: 3000 Loss: 0.008078320883214474\n",
            "Epoch: 2 Batch: 3600 Loss: 0.0011862406972795725\n",
            "Epoch: 2 Batch: 4200 Loss: 0.038080841302871704\n",
            "Epoch: 2 Batch: 4800 Loss: 0.0016068397089838982\n",
            "Epoch: 2 Batch: 5400 Loss: 0.138673797249794\n",
            "Epoch: 2 Batch: 6000 Loss: 0.2449204921722412\n",
            "Epoch: 3 Batch: 600 Loss: 0.007151054684072733\n",
            "Epoch: 3 Batch: 1200 Loss: 0.011097034439444542\n",
            "Epoch: 3 Batch: 1800 Loss: 0.0017998721450567245\n",
            "Epoch: 3 Batch: 2400 Loss: 0.0001049584461725317\n",
            "Epoch: 3 Batch: 3000 Loss: 0.0031431831885129213\n",
            "Epoch: 3 Batch: 3600 Loss: 0.003668801160529256\n",
            "Epoch: 3 Batch: 4200 Loss: 0.0037249946035444736\n",
            "Epoch: 3 Batch: 4800 Loss: 0.00015864608576521277\n",
            "Epoch: 3 Batch: 5400 Loss: 0.0796482041478157\n",
            "Epoch: 3 Batch: 6000 Loss: 0.0808732658624649\n",
            "Epoch: 4 Batch: 600 Loss: 0.014099588617682457\n",
            "Epoch: 4 Batch: 1200 Loss: 0.0382874570786953\n",
            "Epoch: 4 Batch: 1800 Loss: 0.16302265226840973\n",
            "Epoch: 4 Batch: 2400 Loss: 0.02186887338757515\n",
            "Epoch: 4 Batch: 3000 Loss: 0.0024396399967372417\n",
            "Epoch: 4 Batch: 3600 Loss: 0.0013979513896629214\n",
            "Epoch: 4 Batch: 4200 Loss: 0.000989563181065023\n",
            "Epoch: 4 Batch: 4800 Loss: 0.010317974723875523\n",
            "Epoch: 4 Batch: 5400 Loss: 0.16506639122962952\n",
            "Epoch: 4 Batch: 6000 Loss: 0.0027098222635686398\n",
            "Training took: 3.8688241720199583 minutes!\n"
          ]
        }
      ]
    },
    {
      "cell_type": "code",
      "source": [],
      "metadata": {
        "id": "y76gQG_SzrNV"
      },
      "execution_count": null,
      "outputs": []
    }
  ]
}